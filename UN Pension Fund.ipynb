{
 "cells": [
  {
   "cell_type": "code",
   "execution_count": 1,
   "metadata": {},
   "outputs": [],
   "source": [
    "import pandas as pd\n",
    "import numpy as np\n",
    "import pickle\n",
    "import pandas_datareader as pdr\n",
    "import scipy as sp\n",
    "import matplotlib.pyplot as plt\n",
    "import pylab \n",
    "import scipy.stats as stats "
   ]
  },
  {
   "cell_type": "markdown",
   "metadata": {},
   "source": [
    "## Fuzzy matching"
   ]
  },
  {
   "cell_type": "code",
   "execution_count": 2,
   "metadata": {},
   "outputs": [
    {
     "name": "stderr",
     "output_type": "stream",
     "text": [
      "C:\\Program1\\Anaconda\\lib\\site-packages\\IPython\\core\\interactiveshell.py:3049: DtypeWarning: Columns (5) have mixed types. Specify dtype option on import or set low_memory=False.\n",
      "  interactivity=interactivity, compiler=compiler, result=result)\n"
     ]
    },
    {
     "data": {
      "text/html": [
       "<div>\n",
       "<style scoped>\n",
       "    .dataframe tbody tr th:only-of-type {\n",
       "        vertical-align: middle;\n",
       "    }\n",
       "\n",
       "    .dataframe tbody tr th {\n",
       "        vertical-align: top;\n",
       "    }\n",
       "\n",
       "    .dataframe thead th {\n",
       "        text-align: right;\n",
       "    }\n",
       "</style>\n",
       "<table border=\"1\" class=\"dataframe\">\n",
       "  <thead>\n",
       "    <tr style=\"text-align: right;\">\n",
       "      <th></th>\n",
       "      <th>Unnamed: 0</th>\n",
       "      <th>AS_OF_DATE</th>\n",
       "      <th>ISSUER_NAME</th>\n",
       "      <th>ISSUERID</th>\n",
       "      <th>ISSUER_TICKER</th>\n",
       "      <th>ISSUER_CUSIP</th>\n",
       "      <th>ISSUER_SEDOL</th>\n",
       "      <th>ISSUER_ISIN</th>\n",
       "      <th>ISSUER_CNTRY_DOMICILE</th>\n",
       "      <th>IVA_INDUSTRY</th>\n",
       "      <th>IVA_PREVIOUS_RATING</th>\n",
       "      <th>IVA_RATING_TREND</th>\n",
       "      <th>INDUSTRY_ADJUSTED_SCORE</th>\n",
       "      <th>Sector_n</th>\n",
       "      <th>ESG_MOM_1Y</th>\n",
       "      <th>yr_n</th>\n",
       "    </tr>\n",
       "  </thead>\n",
       "  <tbody>\n",
       "    <tr>\n",
       "      <th>0</th>\n",
       "      <td>0</td>\n",
       "      <td>2012-11-01</td>\n",
       "      <td>Cinemark Holdings, Inc.</td>\n",
       "      <td>IID000000002123682</td>\n",
       "      <td>CNK</td>\n",
       "      <td>17243V102</td>\n",
       "      <td>B1W7RQ0</td>\n",
       "      <td>US17243V1026</td>\n",
       "      <td>US</td>\n",
       "      <td>Movies &amp; Entertainment</td>\n",
       "      <td>NaN</td>\n",
       "      <td>NaN</td>\n",
       "      <td>5.9</td>\n",
       "      <td>4</td>\n",
       "      <td>1.000000e-12</td>\n",
       "      <td>2012</td>\n",
       "    </tr>\n",
       "    <tr>\n",
       "      <th>1</th>\n",
       "      <td>1</td>\n",
       "      <td>2012-11-02</td>\n",
       "      <td>Cinemark Holdings, Inc.</td>\n",
       "      <td>IID000000002123682</td>\n",
       "      <td>CNK</td>\n",
       "      <td>17243V102</td>\n",
       "      <td>B1W7RQ0</td>\n",
       "      <td>US17243V1026</td>\n",
       "      <td>US</td>\n",
       "      <td>Movies &amp; Entertainment</td>\n",
       "      <td>NaN</td>\n",
       "      <td>NaN</td>\n",
       "      <td>5.9</td>\n",
       "      <td>4</td>\n",
       "      <td>1.000000e-12</td>\n",
       "      <td>2012</td>\n",
       "    </tr>\n",
       "    <tr>\n",
       "      <th>2</th>\n",
       "      <td>2</td>\n",
       "      <td>2012-11-03</td>\n",
       "      <td>Cinemark Holdings, Inc.</td>\n",
       "      <td>IID000000002123682</td>\n",
       "      <td>CNK</td>\n",
       "      <td>17243V102</td>\n",
       "      <td>B1W7RQ0</td>\n",
       "      <td>US17243V1026</td>\n",
       "      <td>US</td>\n",
       "      <td>Movies &amp; Entertainment</td>\n",
       "      <td>NaN</td>\n",
       "      <td>NaN</td>\n",
       "      <td>5.9</td>\n",
       "      <td>4</td>\n",
       "      <td>1.000000e-12</td>\n",
       "      <td>2012</td>\n",
       "    </tr>\n",
       "    <tr>\n",
       "      <th>3</th>\n",
       "      <td>3</td>\n",
       "      <td>2012-11-04</td>\n",
       "      <td>Cinemark Holdings, Inc.</td>\n",
       "      <td>IID000000002123682</td>\n",
       "      <td>CNK</td>\n",
       "      <td>17243V102</td>\n",
       "      <td>B1W7RQ0</td>\n",
       "      <td>US17243V1026</td>\n",
       "      <td>US</td>\n",
       "      <td>Movies &amp; Entertainment</td>\n",
       "      <td>NaN</td>\n",
       "      <td>NaN</td>\n",
       "      <td>5.9</td>\n",
       "      <td>4</td>\n",
       "      <td>1.000000e-12</td>\n",
       "      <td>2012</td>\n",
       "    </tr>\n",
       "    <tr>\n",
       "      <th>4</th>\n",
       "      <td>4</td>\n",
       "      <td>2012-11-05</td>\n",
       "      <td>Cinemark Holdings, Inc.</td>\n",
       "      <td>IID000000002123682</td>\n",
       "      <td>CNK</td>\n",
       "      <td>17243V102</td>\n",
       "      <td>B1W7RQ0</td>\n",
       "      <td>US17243V1026</td>\n",
       "      <td>US</td>\n",
       "      <td>Movies &amp; Entertainment</td>\n",
       "      <td>NaN</td>\n",
       "      <td>NaN</td>\n",
       "      <td>5.9</td>\n",
       "      <td>4</td>\n",
       "      <td>1.000000e-12</td>\n",
       "      <td>2012</td>\n",
       "    </tr>\n",
       "  </tbody>\n",
       "</table>\n",
       "</div>"
      ],
      "text/plain": [
       "   Unnamed: 0  AS_OF_DATE              ISSUER_NAME            ISSUERID  \\\n",
       "0           0  2012-11-01  Cinemark Holdings, Inc.  IID000000002123682   \n",
       "1           1  2012-11-02  Cinemark Holdings, Inc.  IID000000002123682   \n",
       "2           2  2012-11-03  Cinemark Holdings, Inc.  IID000000002123682   \n",
       "3           3  2012-11-04  Cinemark Holdings, Inc.  IID000000002123682   \n",
       "4           4  2012-11-05  Cinemark Holdings, Inc.  IID000000002123682   \n",
       "\n",
       "  ISSUER_TICKER ISSUER_CUSIP ISSUER_SEDOL   ISSUER_ISIN ISSUER_CNTRY_DOMICILE  \\\n",
       "0           CNK    17243V102      B1W7RQ0  US17243V1026                    US   \n",
       "1           CNK    17243V102      B1W7RQ0  US17243V1026                    US   \n",
       "2           CNK    17243V102      B1W7RQ0  US17243V1026                    US   \n",
       "3           CNK    17243V102      B1W7RQ0  US17243V1026                    US   \n",
       "4           CNK    17243V102      B1W7RQ0  US17243V1026                    US   \n",
       "\n",
       "             IVA_INDUSTRY IVA_PREVIOUS_RATING  IVA_RATING_TREND  \\\n",
       "0  Movies & Entertainment                 NaN               NaN   \n",
       "1  Movies & Entertainment                 NaN               NaN   \n",
       "2  Movies & Entertainment                 NaN               NaN   \n",
       "3  Movies & Entertainment                 NaN               NaN   \n",
       "4  Movies & Entertainment                 NaN               NaN   \n",
       "\n",
       "   INDUSTRY_ADJUSTED_SCORE  Sector_n    ESG_MOM_1Y  yr_n  \n",
       "0                      5.9         4  1.000000e-12  2012  \n",
       "1                      5.9         4  1.000000e-12  2012  \n",
       "2                      5.9         4  1.000000e-12  2012  \n",
       "3                      5.9         4  1.000000e-12  2012  \n",
       "4                      5.9         4  1.000000e-12  2012  "
      ]
     },
     "execution_count": 2,
     "metadata": {},
     "output_type": "execute_result"
    }
   ],
   "source": [
    "raw_data = pd.read_csv('RAWDATA - USESGM_Worksheet.csv')\n",
    "raw_data.head()"
   ]
  },
  {
   "cell_type": "code",
   "execution_count": 3,
   "metadata": {},
   "outputs": [],
   "source": [
    "stock = pd.read_excel('ESGMNUS - July30.xlsx')"
   ]
  },
  {
   "cell_type": "code",
   "execution_count": 4,
   "metadata": {},
   "outputs": [
    {
     "data": {
      "text/html": [
       "<div>\n",
       "<style scoped>\n",
       "    .dataframe tbody tr th:only-of-type {\n",
       "        vertical-align: middle;\n",
       "    }\n",
       "\n",
       "    .dataframe tbody tr th {\n",
       "        vertical-align: top;\n",
       "    }\n",
       "\n",
       "    .dataframe thead th {\n",
       "        text-align: right;\n",
       "    }\n",
       "</style>\n",
       "<table border=\"1\" class=\"dataframe\">\n",
       "  <thead>\n",
       "    <tr style=\"text-align: right;\">\n",
       "      <th></th>\n",
       "      <th>Unnamed: 0</th>\n",
       "      <th>Active Weight (%)</th>\n",
       "      <th>Asset ID</th>\n",
       "      <th>Asset Name</th>\n",
       "      <th>Bmk Weight (%)</th>\n",
       "      <th>Country Of Exposure</th>\n",
       "      <th>GICS Industry</th>\n",
       "      <th>GICS Industry Group</th>\n",
       "      <th>GICS Sector</th>\n",
       "      <th>GICS Sub-Industry</th>\n",
       "      <th>Holdings</th>\n",
       "      <th>Mkt Value</th>\n",
       "      <th>Price</th>\n",
       "      <th>Weight (%)</th>\n",
       "      <th>yr_n</th>\n",
       "    </tr>\n",
       "  </thead>\n",
       "  <tbody>\n",
       "    <tr>\n",
       "      <th>0</th>\n",
       "      <td>0</td>\n",
       "      <td>1.000000</td>\n",
       "      <td>593</td>\n",
       "      <td>NaN</td>\n",
       "      <td>0.0</td>\n",
       "      <td>NaN</td>\n",
       "      <td>NaN</td>\n",
       "      <td>NaN</td>\n",
       "      <td>NaN</td>\n",
       "      <td>NaN</td>\n",
       "      <td>3.259496e+11</td>\n",
       "      <td>9.706082e+12</td>\n",
       "      <td>41.549258</td>\n",
       "      <td>1.000000</td>\n",
       "      <td>2012</td>\n",
       "    </tr>\n",
       "    <tr>\n",
       "      <th>1</th>\n",
       "      <td>1</td>\n",
       "      <td>0.029967</td>\n",
       "      <td>USAEVS1</td>\n",
       "      <td>EXXON MOBIL CORPORATION</td>\n",
       "      <td>0.0</td>\n",
       "      <td>USA</td>\n",
       "      <td>Oil Gas &amp; Consumable Fuels</td>\n",
       "      <td>Energy</td>\n",
       "      <td>Energy</td>\n",
       "      <td>Integrated Oil &amp; Gas</td>\n",
       "      <td>5.096576e+09</td>\n",
       "      <td>2.908616e+11</td>\n",
       "      <td>57.070000</td>\n",
       "      <td>0.029967</td>\n",
       "      <td>2012</td>\n",
       "    </tr>\n",
       "    <tr>\n",
       "      <th>2</th>\n",
       "      <td>2</td>\n",
       "      <td>0.023499</td>\n",
       "      <td>USAB1X1</td>\n",
       "      <td>APPLE INC</td>\n",
       "      <td>0.0</td>\n",
       "      <td>USA</td>\n",
       "      <td>Technology Hardware Storage &amp; Peripherals</td>\n",
       "      <td>Technology Hardware &amp; Equipment</td>\n",
       "      <td>Information Technology</td>\n",
       "      <td>Computer Hardware</td>\n",
       "      <td>9.067950e+08</td>\n",
       "      <td>2.280861e+11</td>\n",
       "      <td>251.530000</td>\n",
       "      <td>0.023499</td>\n",
       "      <td>2012</td>\n",
       "    </tr>\n",
       "    <tr>\n",
       "      <th>3</th>\n",
       "      <td>3</td>\n",
       "      <td>0.018713</td>\n",
       "      <td>USAJ471</td>\n",
       "      <td>MICROSOFT CORP</td>\n",
       "      <td>0.0</td>\n",
       "      <td>USA</td>\n",
       "      <td>Software</td>\n",
       "      <td>Software &amp; Services</td>\n",
       "      <td>Information Technology</td>\n",
       "      <td>Systems Software</td>\n",
       "      <td>7.893415e+09</td>\n",
       "      <td>1.816275e+11</td>\n",
       "      <td>23.010000</td>\n",
       "      <td>0.018713</td>\n",
       "      <td>2012</td>\n",
       "    </tr>\n",
       "    <tr>\n",
       "      <th>4</th>\n",
       "      <td>4</td>\n",
       "      <td>0.017949</td>\n",
       "      <td>USAL6I1</td>\n",
       "      <td>PROCTER &amp; GAMBLE CO</td>\n",
       "      <td>0.0</td>\n",
       "      <td>USA</td>\n",
       "      <td>Household Products</td>\n",
       "      <td>Household &amp; Personal Products</td>\n",
       "      <td>Consumer Staples</td>\n",
       "      <td>Household Products</td>\n",
       "      <td>2.904593e+09</td>\n",
       "      <td>1.742175e+11</td>\n",
       "      <td>59.980000</td>\n",
       "      <td>0.017949</td>\n",
       "      <td>2012</td>\n",
       "    </tr>\n",
       "  </tbody>\n",
       "</table>\n",
       "</div>"
      ],
      "text/plain": [
       "   Unnamed: 0  Active Weight (%) Asset ID               Asset Name  \\\n",
       "0           0           1.000000      593                      NaN   \n",
       "1           1           0.029967  USAEVS1  EXXON MOBIL CORPORATION   \n",
       "2           2           0.023499  USAB1X1                APPLE INC   \n",
       "3           3           0.018713  USAJ471           MICROSOFT CORP   \n",
       "4           4           0.017949  USAL6I1      PROCTER & GAMBLE CO   \n",
       "\n",
       "   Bmk Weight (%) Country Of Exposure  \\\n",
       "0             0.0                 NaN   \n",
       "1             0.0                 USA   \n",
       "2             0.0                 USA   \n",
       "3             0.0                 USA   \n",
       "4             0.0                 USA   \n",
       "\n",
       "                               GICS Industry              GICS Industry Group  \\\n",
       "0                                        NaN                              NaN   \n",
       "1                 Oil Gas & Consumable Fuels                           Energy   \n",
       "2  Technology Hardware Storage & Peripherals  Technology Hardware & Equipment   \n",
       "3                                   Software              Software & Services   \n",
       "4                         Household Products    Household & Personal Products   \n",
       "\n",
       "              GICS Sector     GICS Sub-Industry      Holdings     Mkt Value  \\\n",
       "0                     NaN                   NaN  3.259496e+11  9.706082e+12   \n",
       "1                  Energy  Integrated Oil & Gas  5.096576e+09  2.908616e+11   \n",
       "2  Information Technology     Computer Hardware  9.067950e+08  2.280861e+11   \n",
       "3  Information Technology      Systems Software  7.893415e+09  1.816275e+11   \n",
       "4        Consumer Staples    Household Products  2.904593e+09  1.742175e+11   \n",
       "\n",
       "        Price  Weight (%)  yr_n  \n",
       "0   41.549258    1.000000  2012  \n",
       "1   57.070000    0.029967  2012  \n",
       "2  251.530000    0.023499  2012  \n",
       "3   23.010000    0.018713  2012  \n",
       "4   59.980000    0.017949  2012  "
      ]
     },
     "execution_count": 4,
     "metadata": {},
     "output_type": "execute_result"
    }
   ],
   "source": [
    "mxus = pd.read_csv('MXUS_Index.csv')\n",
    "mxus.head()"
   ]
  },
  {
   "cell_type": "code",
   "execution_count": 5,
   "metadata": {},
   "outputs": [],
   "source": [
    "data1 = list(mxus['Asset Name'].unique())[1:]"
   ]
  },
  {
   "cell_type": "code",
   "execution_count": 6,
   "metadata": {},
   "outputs": [],
   "source": [
    "data2 = list(raw_data['ISSUER_NAME'].unique())"
   ]
  },
  {
   "cell_type": "code",
   "execution_count": 22,
   "metadata": {},
   "outputs": [],
   "source": [
    "from fuzzywuzzy import fuzz\n",
    "from fuzzywuzzy import process"
   ]
  },
  {
   "cell_type": "code",
   "execution_count": 31,
   "metadata": {},
   "outputs": [
    {
     "name": "stdout",
     "output_type": "stream",
     "text": [
      "0\n",
      "50\n",
      "100\n",
      "150\n",
      "200\n",
      "250\n",
      "300\n",
      "350\n",
      "400\n",
      "450\n",
      "500\n",
      "550\n",
      "600\n",
      "650\n",
      "700\n",
      "750\n",
      "800\n",
      "850\n"
     ]
    }
   ],
   "source": [
    "data1_list = []\n",
    "data2_list = []\n",
    "data2_score = []\n",
    "\n",
    "\n",
    "for i in range(len(data1)):\n",
    "    highest = process.extractOne(data1[i],data2)\n",
    "    data2_list.append(highest[0])\n",
    "    data2_score.append(highest[1])\n",
    "    data1_list.append(data1[i])\n",
    "    \n",
    "    if i%50==0:\n",
    "        print(i)\n",
    "        "
   ]
  },
  {
   "cell_type": "code",
   "execution_count": 29,
   "metadata": {},
   "outputs": [
    {
     "data": {
      "text/plain": [
       "['EXXON MOBIL CORPORATION', 'APPLE INC']"
      ]
     },
     "execution_count": 29,
     "metadata": {},
     "output_type": "execute_result"
    }
   ],
   "source": [
    "data1_list"
   ]
  },
  {
   "cell_type": "code",
   "execution_count": 7,
   "metadata": {},
   "outputs": [],
   "source": [
    "data = pd.DataFrame()\n",
    "data2 = pd.DataFrame()\n",
    "raw_data = pd.read_csv('RAWDATA - USESGM_Worksheet.csv')\n",
    "mxus = pd.read_csv('MXUS_Index.csv')\n",
    "\n",
    "data['company_from_rawdata'] = raw_data['ISSUER_NAME'].unique()\n",
    "data2['company_from_mxus'] = mxus['Asset Name'].unique()"
   ]
  },
  {
   "cell_type": "markdown",
   "metadata": {},
   "source": [
    "## Find the stocks with highest ESG "
   ]
  },
  {
   "cell_type": "code",
   "execution_count": 8,
   "metadata": {},
   "outputs": [
    {
     "data": {
      "text/html": [
       "<div>\n",
       "<style scoped>\n",
       "    .dataframe tbody tr th:only-of-type {\n",
       "        vertical-align: middle;\n",
       "    }\n",
       "\n",
       "    .dataframe tbody tr th {\n",
       "        vertical-align: top;\n",
       "    }\n",
       "\n",
       "    .dataframe thead th {\n",
       "        text-align: right;\n",
       "    }\n",
       "</style>\n",
       "<table border=\"1\" class=\"dataframe\">\n",
       "  <thead>\n",
       "    <tr style=\"text-align: right;\">\n",
       "      <th></th>\n",
       "      <th>Unnamed: 0</th>\n",
       "      <th>AS_OF_DATE</th>\n",
       "      <th>ISSUER_NAME</th>\n",
       "      <th>ISSUERID</th>\n",
       "      <th>ISSUER_TICKER</th>\n",
       "      <th>ISSUER_CUSIP</th>\n",
       "      <th>ISSUER_SEDOL</th>\n",
       "      <th>ISSUER_ISIN</th>\n",
       "      <th>ISSUER_CNTRY_DOMICILE</th>\n",
       "      <th>IVA_INDUSTRY</th>\n",
       "      <th>IVA_PREVIOUS_RATING</th>\n",
       "      <th>IVA_RATING_TREND</th>\n",
       "      <th>INDUSTRY_ADJUSTED_SCORE</th>\n",
       "      <th>Sector_n</th>\n",
       "      <th>ESG_MOM_1Y</th>\n",
       "      <th>yr_n</th>\n",
       "    </tr>\n",
       "  </thead>\n",
       "  <tbody>\n",
       "    <tr>\n",
       "      <th>0</th>\n",
       "      <td>0</td>\n",
       "      <td>2012-11-01</td>\n",
       "      <td>Cinemark Holdings, Inc.</td>\n",
       "      <td>IID000000002123682</td>\n",
       "      <td>CNK</td>\n",
       "      <td>17243V102</td>\n",
       "      <td>B1W7RQ0</td>\n",
       "      <td>US17243V1026</td>\n",
       "      <td>US</td>\n",
       "      <td>Movies &amp; Entertainment</td>\n",
       "      <td>NaN</td>\n",
       "      <td>NaN</td>\n",
       "      <td>5.9</td>\n",
       "      <td>4</td>\n",
       "      <td>1.000000e-12</td>\n",
       "      <td>2012</td>\n",
       "    </tr>\n",
       "    <tr>\n",
       "      <th>1</th>\n",
       "      <td>1</td>\n",
       "      <td>2012-11-02</td>\n",
       "      <td>Cinemark Holdings, Inc.</td>\n",
       "      <td>IID000000002123682</td>\n",
       "      <td>CNK</td>\n",
       "      <td>17243V102</td>\n",
       "      <td>B1W7RQ0</td>\n",
       "      <td>US17243V1026</td>\n",
       "      <td>US</td>\n",
       "      <td>Movies &amp; Entertainment</td>\n",
       "      <td>NaN</td>\n",
       "      <td>NaN</td>\n",
       "      <td>5.9</td>\n",
       "      <td>4</td>\n",
       "      <td>1.000000e-12</td>\n",
       "      <td>2012</td>\n",
       "    </tr>\n",
       "    <tr>\n",
       "      <th>2</th>\n",
       "      <td>2</td>\n",
       "      <td>2012-11-03</td>\n",
       "      <td>Cinemark Holdings, Inc.</td>\n",
       "      <td>IID000000002123682</td>\n",
       "      <td>CNK</td>\n",
       "      <td>17243V102</td>\n",
       "      <td>B1W7RQ0</td>\n",
       "      <td>US17243V1026</td>\n",
       "      <td>US</td>\n",
       "      <td>Movies &amp; Entertainment</td>\n",
       "      <td>NaN</td>\n",
       "      <td>NaN</td>\n",
       "      <td>5.9</td>\n",
       "      <td>4</td>\n",
       "      <td>1.000000e-12</td>\n",
       "      <td>2012</td>\n",
       "    </tr>\n",
       "    <tr>\n",
       "      <th>3</th>\n",
       "      <td>3</td>\n",
       "      <td>2012-11-04</td>\n",
       "      <td>Cinemark Holdings, Inc.</td>\n",
       "      <td>IID000000002123682</td>\n",
       "      <td>CNK</td>\n",
       "      <td>17243V102</td>\n",
       "      <td>B1W7RQ0</td>\n",
       "      <td>US17243V1026</td>\n",
       "      <td>US</td>\n",
       "      <td>Movies &amp; Entertainment</td>\n",
       "      <td>NaN</td>\n",
       "      <td>NaN</td>\n",
       "      <td>5.9</td>\n",
       "      <td>4</td>\n",
       "      <td>1.000000e-12</td>\n",
       "      <td>2012</td>\n",
       "    </tr>\n",
       "    <tr>\n",
       "      <th>4</th>\n",
       "      <td>4</td>\n",
       "      <td>2012-11-05</td>\n",
       "      <td>Cinemark Holdings, Inc.</td>\n",
       "      <td>IID000000002123682</td>\n",
       "      <td>CNK</td>\n",
       "      <td>17243V102</td>\n",
       "      <td>B1W7RQ0</td>\n",
       "      <td>US17243V1026</td>\n",
       "      <td>US</td>\n",
       "      <td>Movies &amp; Entertainment</td>\n",
       "      <td>NaN</td>\n",
       "      <td>NaN</td>\n",
       "      <td>5.9</td>\n",
       "      <td>4</td>\n",
       "      <td>1.000000e-12</td>\n",
       "      <td>2012</td>\n",
       "    </tr>\n",
       "  </tbody>\n",
       "</table>\n",
       "</div>"
      ],
      "text/plain": [
       "   Unnamed: 0  AS_OF_DATE              ISSUER_NAME            ISSUERID  \\\n",
       "0           0  2012-11-01  Cinemark Holdings, Inc.  IID000000002123682   \n",
       "1           1  2012-11-02  Cinemark Holdings, Inc.  IID000000002123682   \n",
       "2           2  2012-11-03  Cinemark Holdings, Inc.  IID000000002123682   \n",
       "3           3  2012-11-04  Cinemark Holdings, Inc.  IID000000002123682   \n",
       "4           4  2012-11-05  Cinemark Holdings, Inc.  IID000000002123682   \n",
       "\n",
       "  ISSUER_TICKER ISSUER_CUSIP ISSUER_SEDOL   ISSUER_ISIN ISSUER_CNTRY_DOMICILE  \\\n",
       "0           CNK    17243V102      B1W7RQ0  US17243V1026                    US   \n",
       "1           CNK    17243V102      B1W7RQ0  US17243V1026                    US   \n",
       "2           CNK    17243V102      B1W7RQ0  US17243V1026                    US   \n",
       "3           CNK    17243V102      B1W7RQ0  US17243V1026                    US   \n",
       "4           CNK    17243V102      B1W7RQ0  US17243V1026                    US   \n",
       "\n",
       "             IVA_INDUSTRY IVA_PREVIOUS_RATING  IVA_RATING_TREND  \\\n",
       "0  Movies & Entertainment                 NaN               NaN   \n",
       "1  Movies & Entertainment                 NaN               NaN   \n",
       "2  Movies & Entertainment                 NaN               NaN   \n",
       "3  Movies & Entertainment                 NaN               NaN   \n",
       "4  Movies & Entertainment                 NaN               NaN   \n",
       "\n",
       "   INDUSTRY_ADJUSTED_SCORE  Sector_n    ESG_MOM_1Y  yr_n  \n",
       "0                      5.9         4  1.000000e-12  2012  \n",
       "1                      5.9         4  1.000000e-12  2012  \n",
       "2                      5.9         4  1.000000e-12  2012  \n",
       "3                      5.9         4  1.000000e-12  2012  \n",
       "4                      5.9         4  1.000000e-12  2012  "
      ]
     },
     "execution_count": 8,
     "metadata": {},
     "output_type": "execute_result"
    }
   ],
   "source": [
    "raw_data.head()"
   ]
  },
  {
   "cell_type": "code",
   "execution_count": 385,
   "metadata": {},
   "outputs": [
    {
     "data": {
      "text/html": [
       "<div>\n",
       "<style scoped>\n",
       "    .dataframe tbody tr th:only-of-type {\n",
       "        vertical-align: middle;\n",
       "    }\n",
       "\n",
       "    .dataframe tbody tr th {\n",
       "        vertical-align: top;\n",
       "    }\n",
       "\n",
       "    .dataframe thead th {\n",
       "        text-align: right;\n",
       "    }\n",
       "</style>\n",
       "<table border=\"1\" class=\"dataframe\">\n",
       "  <thead>\n",
       "    <tr style=\"text-align: right;\">\n",
       "      <th></th>\n",
       "      <th>AS_OF_DATE</th>\n",
       "      <th>ISSUER_NAME</th>\n",
       "      <th>ISSUER_TICKER</th>\n",
       "      <th>IVA_INDUSTRY</th>\n",
       "      <th>ESG_MOM_1Y</th>\n",
       "      <th>yr_n</th>\n",
       "      <th>Sector_n</th>\n",
       "    </tr>\n",
       "  </thead>\n",
       "  <tbody>\n",
       "    <tr>\n",
       "      <th>0</th>\n",
       "      <td>2012-11-01</td>\n",
       "      <td>Cinemark Holdings, Inc.</td>\n",
       "      <td>CNK</td>\n",
       "      <td>Movies &amp; Entertainment</td>\n",
       "      <td>1.000000e-12</td>\n",
       "      <td>2012</td>\n",
       "      <td>4</td>\n",
       "    </tr>\n",
       "    <tr>\n",
       "      <th>1</th>\n",
       "      <td>2012-11-02</td>\n",
       "      <td>Cinemark Holdings, Inc.</td>\n",
       "      <td>CNK</td>\n",
       "      <td>Movies &amp; Entertainment</td>\n",
       "      <td>1.000000e-12</td>\n",
       "      <td>2012</td>\n",
       "      <td>4</td>\n",
       "    </tr>\n",
       "    <tr>\n",
       "      <th>2</th>\n",
       "      <td>2012-11-03</td>\n",
       "      <td>Cinemark Holdings, Inc.</td>\n",
       "      <td>CNK</td>\n",
       "      <td>Movies &amp; Entertainment</td>\n",
       "      <td>1.000000e-12</td>\n",
       "      <td>2012</td>\n",
       "      <td>4</td>\n",
       "    </tr>\n",
       "    <tr>\n",
       "      <th>3</th>\n",
       "      <td>2012-11-04</td>\n",
       "      <td>Cinemark Holdings, Inc.</td>\n",
       "      <td>CNK</td>\n",
       "      <td>Movies &amp; Entertainment</td>\n",
       "      <td>1.000000e-12</td>\n",
       "      <td>2012</td>\n",
       "      <td>4</td>\n",
       "    </tr>\n",
       "    <tr>\n",
       "      <th>4</th>\n",
       "      <td>2012-11-05</td>\n",
       "      <td>Cinemark Holdings, Inc.</td>\n",
       "      <td>CNK</td>\n",
       "      <td>Movies &amp; Entertainment</td>\n",
       "      <td>1.000000e-12</td>\n",
       "      <td>2012</td>\n",
       "      <td>4</td>\n",
       "    </tr>\n",
       "  </tbody>\n",
       "</table>\n",
       "</div>"
      ],
      "text/plain": [
       "   AS_OF_DATE              ISSUER_NAME ISSUER_TICKER            IVA_INDUSTRY  \\\n",
       "0  2012-11-01  Cinemark Holdings, Inc.           CNK  Movies & Entertainment   \n",
       "1  2012-11-02  Cinemark Holdings, Inc.           CNK  Movies & Entertainment   \n",
       "2  2012-11-03  Cinemark Holdings, Inc.           CNK  Movies & Entertainment   \n",
       "3  2012-11-04  Cinemark Holdings, Inc.           CNK  Movies & Entertainment   \n",
       "4  2012-11-05  Cinemark Holdings, Inc.           CNK  Movies & Entertainment   \n",
       "\n",
       "     ESG_MOM_1Y  yr_n  Sector_n  \n",
       "0  1.000000e-12  2012         4  \n",
       "1  1.000000e-12  2012         4  \n",
       "2  1.000000e-12  2012         4  \n",
       "3  1.000000e-12  2012         4  \n",
       "4  1.000000e-12  2012         4  "
      ]
     },
     "execution_count": 385,
     "metadata": {},
     "output_type": "execute_result"
    }
   ],
   "source": [
    "#return some columns\n",
    "raw_data = raw_data[['AS_OF_DATE','ISSUER_NAME','ISSUER_TICKER','IVA_INDUSTRY','ESG_MOM_1Y','yr_n','Sector_n']]\n",
    "raw_data.head()"
   ]
  },
  {
   "cell_type": "code",
   "execution_count": 386,
   "metadata": {},
   "outputs": [],
   "source": [
    "# built a dictionary where the key is sector, the values are the corresponding companies\n",
    "sector_dict = {}\n",
    "for i in range(1,11):\n",
    "    sector = list(raw_data[raw_data['Sector_n'] == i]['ISSUER_NAME'].unique())\n",
    "    sector_dict[i] = sector\n",
    "    \n",
    "#open company mapping from old to new    \n",
    "with open('company_dict.pickle', 'rb') as handle:\n",
    "    company_dict = pickle.load(handle)"
   ]
  },
  {
   "cell_type": "code",
   "execution_count": 387,
   "metadata": {},
   "outputs": [
    {
     "data": {
      "text/html": [
       "<div>\n",
       "<style scoped>\n",
       "    .dataframe tbody tr th:only-of-type {\n",
       "        vertical-align: middle;\n",
       "    }\n",
       "\n",
       "    .dataframe tbody tr th {\n",
       "        vertical-align: top;\n",
       "    }\n",
       "\n",
       "    .dataframe thead th {\n",
       "        text-align: right;\n",
       "    }\n",
       "</style>\n",
       "<table border=\"1\" class=\"dataframe\">\n",
       "  <thead>\n",
       "    <tr style=\"text-align: right;\">\n",
       "      <th></th>\n",
       "      <th>ISSUER_TICKER</th>\n",
       "      <th>Sector_n</th>\n",
       "      <th>ISSUER_NAME</th>\n",
       "      <th>AS_OF_DATE</th>\n",
       "      <th>ESG_MOM_1Y</th>\n",
       "    </tr>\n",
       "  </thead>\n",
       "  <tbody>\n",
       "    <tr>\n",
       "      <th>0</th>\n",
       "      <td>A</td>\n",
       "      <td>3</td>\n",
       "      <td>Agilent Technologies Inc</td>\n",
       "      <td>2007-12-31</td>\n",
       "      <td>7.544910e-13</td>\n",
       "    </tr>\n",
       "    <tr>\n",
       "      <th>1</th>\n",
       "      <td>A</td>\n",
       "      <td>3</td>\n",
       "      <td>Agilent Technologies Inc</td>\n",
       "      <td>2008-12-31</td>\n",
       "      <td>0.000000e+00</td>\n",
       "    </tr>\n",
       "    <tr>\n",
       "      <th>2</th>\n",
       "      <td>A</td>\n",
       "      <td>3</td>\n",
       "      <td>Agilent Technologies Inc</td>\n",
       "      <td>2009-12-31</td>\n",
       "      <td>-2.071233e-03</td>\n",
       "    </tr>\n",
       "    <tr>\n",
       "      <th>3</th>\n",
       "      <td>A</td>\n",
       "      <td>3</td>\n",
       "      <td>Agilent Technologies Inc</td>\n",
       "      <td>2010-12-31</td>\n",
       "      <td>0.000000e+00</td>\n",
       "    </tr>\n",
       "    <tr>\n",
       "      <th>4</th>\n",
       "      <td>AAL</td>\n",
       "      <td>6</td>\n",
       "      <td>AMERICAN AIRLINES GROUP INC.</td>\n",
       "      <td>2014-12-31</td>\n",
       "      <td>2.805817e-02</td>\n",
       "    </tr>\n",
       "  </tbody>\n",
       "</table>\n",
       "</div>"
      ],
      "text/plain": [
       "  ISSUER_TICKER  Sector_n                   ISSUER_NAME AS_OF_DATE  \\\n",
       "0             A         3      Agilent Technologies Inc 2007-12-31   \n",
       "1             A         3      Agilent Technologies Inc 2008-12-31   \n",
       "2             A         3      Agilent Technologies Inc 2009-12-31   \n",
       "3             A         3      Agilent Technologies Inc 2010-12-31   \n",
       "4           AAL         6  AMERICAN AIRLINES GROUP INC. 2014-12-31   \n",
       "\n",
       "     ESG_MOM_1Y  \n",
       "0  7.544910e-13  \n",
       "1  0.000000e+00  \n",
       "2 -2.071233e-03  \n",
       "3  0.000000e+00  \n",
       "4  2.805817e-02  "
      ]
     },
     "execution_count": 387,
     "metadata": {},
     "output_type": "execute_result"
    }
   ],
   "source": [
    "raw_data = raw_data[raw_data['ISSUER_NAME'].isin(list(company_dict.values()))]\n",
    "raw_data['AS_OF_DATE'] = pd.to_datetime(raw_data['AS_OF_DATE'])\n",
    "raw_data = raw_data.set_index('AS_OF_DATE')\n",
    "ticker_list = list(raw_data['ISSUER_TICKER'].unique())\n",
    "raw_data = raw_data.groupby(['ISSUER_TICKER','Sector_n','ISSUER_NAME']).resample('Y').agg({'ESG_MOM_1Y':'mean'}).reset_index()\n",
    "time_list = ['201'+str(x)+'-12-31' for x in range(2,9)]\n",
    "raw_data.head()"
   ]
  },
  {
   "cell_type": "code",
   "execution_count": 251,
   "metadata": {},
   "outputs": [
    {
     "name": "stdout",
     "output_type": "stream",
     "text": [
      "EGN\n",
      "LRY\n",
      "RDC\n",
      "UA\n",
      "ONNN\n",
      "ESRX\n",
      "EGN\n",
      "SCG\n",
      "ONNN\n",
      "ESRX\n"
     ]
    }
   ],
   "source": [
    "portfolio_return = pd.DataFrame()\n",
    "\n",
    "for time in time_list:\n",
    "    \n",
    "    portfolio = []\n",
    "    \n",
    "    for sector in range(1,11):\n",
    "        \n",
    "        r = raw_data[(raw_data['AS_OF_DATE']==time)&(raw_data['Sector_n']==sector)].sort_values(by=['ESG_MOM_1Y'],ascending=False)\n",
    "        num = round(r.shape[0]*0.2)\n",
    "        \n",
    "        portfolio.extend(list(r.iloc[:num]['ISSUER_TICKER']))\n",
    "    \n",
    "    \n",
    "\n",
    "\n",
    "    data = pd.DataFrame()\n",
    "\n",
    "    for i in portfolio:\n",
    "\n",
    "        try:\n",
    "            if time[3]!= '8':\n",
    "\n",
    "                data_stock = pdr.get_data_yahoo(i,time[:3]+str(int(time[3])+1)+'-01-01',time_list[time_list.index(time)+1])\n",
    "                data[i] = data_stock['Adj Close']\n",
    "            else:\n",
    "                data_stock = pdr.get_data_yahoo(i,'2019-01-01','2019-07-31')\n",
    "                data[i] = data_stock['Adj Close']\n",
    "\n",
    "        except KeyError:\n",
    "            print(i)\n",
    "            portfolio.remove(i)\n",
    "\n",
    "            continue\n",
    "\n",
    "\n",
    "\n",
    "    num_stock_in_portfolio = len(portfolio)\n",
    "    portfolio_1 = data.pct_change().iloc[1:]\n",
    "    portfolio_1['total_return'] = portfolio_1.apply(np.sum,axis=1)\n",
    "\n",
    "    portfolio_1['total_return'] = portfolio_1['total_return']/num_stock_in_portfolio\n",
    "    portfolio_1['total_return'] = portfolio_1['total_return']+1\n",
    "\n",
    "    portfolio_return = pd.concat([portfolio_return,portfolio_1.resample('M').agg({'total_return':np.product})])\n",
    "\n"
   ]
  },
  {
   "cell_type": "code",
   "execution_count": 461,
   "metadata": {},
   "outputs": [
    {
     "data": {
      "text/html": [
       "<div>\n",
       "<style scoped>\n",
       "    .dataframe tbody tr th:only-of-type {\n",
       "        vertical-align: middle;\n",
       "    }\n",
       "\n",
       "    .dataframe tbody tr th {\n",
       "        vertical-align: top;\n",
       "    }\n",
       "\n",
       "    .dataframe thead th {\n",
       "        text-align: right;\n",
       "    }\n",
       "</style>\n",
       "<table border=\"1\" class=\"dataframe\">\n",
       "  <thead>\n",
       "    <tr style=\"text-align: right;\">\n",
       "      <th></th>\n",
       "      <th>ISSUER_TICKER</th>\n",
       "      <th>Sector_n</th>\n",
       "      <th>ISSUER_NAME</th>\n",
       "      <th>AS_OF_DATE</th>\n",
       "      <th>ESG_MOM_1Y</th>\n",
       "    </tr>\n",
       "  </thead>\n",
       "  <tbody>\n",
       "    <tr>\n",
       "      <th>601</th>\n",
       "      <td>EGN</td>\n",
       "      <td>6</td>\n",
       "      <td>Energen Corporation</td>\n",
       "      <td>2009-12-31</td>\n",
       "      <td>1.000000e-12</td>\n",
       "    </tr>\n",
       "    <tr>\n",
       "      <th>602</th>\n",
       "      <td>EGN</td>\n",
       "      <td>6</td>\n",
       "      <td>Energen Corporation</td>\n",
       "      <td>2010-12-31</td>\n",
       "      <td>-4.191781e-01</td>\n",
       "    </tr>\n",
       "    <tr>\n",
       "      <th>603</th>\n",
       "      <td>EGN</td>\n",
       "      <td>6</td>\n",
       "      <td>Energen Corporation</td>\n",
       "      <td>2011-12-31</td>\n",
       "      <td>-2.712329e-01</td>\n",
       "    </tr>\n",
       "    <tr>\n",
       "      <th>604</th>\n",
       "      <td>EGN</td>\n",
       "      <td>6</td>\n",
       "      <td>Energen Corporation</td>\n",
       "      <td>2012-12-31</td>\n",
       "      <td>inf</td>\n",
       "    </tr>\n",
       "    <tr>\n",
       "      <th>605</th>\n",
       "      <td>EGN</td>\n",
       "      <td>6</td>\n",
       "      <td>Energen Corporation</td>\n",
       "      <td>2013-12-31</td>\n",
       "      <td>inf</td>\n",
       "    </tr>\n",
       "    <tr>\n",
       "      <th>606</th>\n",
       "      <td>EGN</td>\n",
       "      <td>6</td>\n",
       "      <td>Energen Corporation</td>\n",
       "      <td>2014-12-31</td>\n",
       "      <td>-1.003584e-02</td>\n",
       "    </tr>\n",
       "    <tr>\n",
       "      <th>607</th>\n",
       "      <td>EGN</td>\n",
       "      <td>6</td>\n",
       "      <td>Energen Corporation</td>\n",
       "      <td>2015-12-31</td>\n",
       "      <td>-6.655410e-02</td>\n",
       "    </tr>\n",
       "    <tr>\n",
       "      <th>608</th>\n",
       "      <td>EGN</td>\n",
       "      <td>6</td>\n",
       "      <td>Energen Corporation</td>\n",
       "      <td>2016-12-31</td>\n",
       "      <td>-2.574764e-02</td>\n",
       "    </tr>\n",
       "    <tr>\n",
       "      <th>609</th>\n",
       "      <td>EGN</td>\n",
       "      <td>6</td>\n",
       "      <td>Energen Corporation</td>\n",
       "      <td>2017-12-31</td>\n",
       "      <td>3.853862e-02</td>\n",
       "    </tr>\n",
       "    <tr>\n",
       "      <th>610</th>\n",
       "      <td>EGN</td>\n",
       "      <td>6</td>\n",
       "      <td>Energen Corporation</td>\n",
       "      <td>2018-12-31</td>\n",
       "      <td>4.418605e-02</td>\n",
       "    </tr>\n",
       "  </tbody>\n",
       "</table>\n",
       "</div>"
      ],
      "text/plain": [
       "    ISSUER_TICKER  Sector_n          ISSUER_NAME AS_OF_DATE    ESG_MOM_1Y\n",
       "601           EGN         6  Energen Corporation 2009-12-31  1.000000e-12\n",
       "602           EGN         6  Energen Corporation 2010-12-31 -4.191781e-01\n",
       "603           EGN         6  Energen Corporation 2011-12-31 -2.712329e-01\n",
       "604           EGN         6  Energen Corporation 2012-12-31           inf\n",
       "605           EGN         6  Energen Corporation 2013-12-31           inf\n",
       "606           EGN         6  Energen Corporation 2014-12-31 -1.003584e-02\n",
       "607           EGN         6  Energen Corporation 2015-12-31 -6.655410e-02\n",
       "608           EGN         6  Energen Corporation 2016-12-31 -2.574764e-02\n",
       "609           EGN         6  Energen Corporation 2017-12-31  3.853862e-02\n",
       "610           EGN         6  Energen Corporation 2018-12-31  4.418605e-02"
      ]
     },
     "execution_count": 461,
     "metadata": {},
     "output_type": "execute_result"
    }
   ],
   "source": [
    "raw_data[raw_data['ISSUER_TICKER']=='EGN']"
   ]
  },
  {
   "cell_type": "code",
   "execution_count": null,
   "metadata": {},
   "outputs": [],
   "source": []
  },
  {
   "cell_type": "code",
   "execution_count": 238,
   "metadata": {},
   "outputs": [
    {
     "name": "stdout",
     "output_type": "stream",
     "text": [
      "CDK\n",
      "TRU\n",
      "UNIT\n",
      "WRK\n"
     ]
    }
   ],
   "source": [
    "time = time_list[0]\n",
    "for i in portfolio:\n",
    "    try:\n",
    "        data_stock = pdr.get_data_yahoo(i,time[:3]+str(int(time[3])+1)+'-01-01',time_list[time_list.index(time)+1])\n",
    "    except KeyError:\n",
    "        print(i)\n",
    "        continue\n",
    "        "
   ]
  },
  {
   "cell_type": "code",
   "execution_count": 467,
   "metadata": {},
   "outputs": [
    {
     "data": {
      "text/html": [
       "<div>\n",
       "<style scoped>\n",
       "    .dataframe tbody tr th:only-of-type {\n",
       "        vertical-align: middle;\n",
       "    }\n",
       "\n",
       "    .dataframe tbody tr th {\n",
       "        vertical-align: top;\n",
       "    }\n",
       "\n",
       "    .dataframe thead th {\n",
       "        text-align: right;\n",
       "    }\n",
       "</style>\n",
       "<table border=\"1\" class=\"dataframe\">\n",
       "  <thead>\n",
       "    <tr style=\"text-align: right;\">\n",
       "      <th></th>\n",
       "      <th>daily_return</th>\n",
       "    </tr>\n",
       "    <tr>\n",
       "      <th>Date</th>\n",
       "      <th></th>\n",
       "    </tr>\n",
       "  </thead>\n",
       "  <tbody>\n",
       "    <tr>\n",
       "      <th>2013-01-31</th>\n",
       "      <td>1.024405</td>\n",
       "    </tr>\n",
       "    <tr>\n",
       "      <th>2013-02-28</th>\n",
       "      <td>1.011061</td>\n",
       "    </tr>\n",
       "    <tr>\n",
       "      <th>2013-03-31</th>\n",
       "      <td>1.035988</td>\n",
       "    </tr>\n",
       "    <tr>\n",
       "      <th>2013-04-30</th>\n",
       "      <td>1.018086</td>\n",
       "    </tr>\n",
       "    <tr>\n",
       "      <th>2013-05-31</th>\n",
       "      <td>1.020763</td>\n",
       "    </tr>\n",
       "  </tbody>\n",
       "</table>\n",
       "</div>"
      ],
      "text/plain": [
       "            daily_return\n",
       "Date                    \n",
       "2013-01-31      1.024405\n",
       "2013-02-28      1.011061\n",
       "2013-03-31      1.035988\n",
       "2013-04-30      1.018086\n",
       "2013-05-31      1.020763"
      ]
     },
     "execution_count": 467,
     "metadata": {},
     "output_type": "execute_result"
    }
   ],
   "source": [
    "data_sp = pdr.get_data_yahoo('^GSPC','2013-01-01','2019-07-31')\n",
    "data_sp['daily_return'] = data_sp['Adj Close'].pct_change()\n",
    "data_sp = data_sp.iloc[1:]\n",
    "data_sp['daily_return'] +=1\n",
    "data_sp = data_sp.resample('M').agg({'daily_return':np.product})\n",
    "data_sp.head()"
   ]
  },
  {
   "cell_type": "code",
   "execution_count": 468,
   "metadata": {},
   "outputs": [
    {
     "data": {
      "text/html": [
       "<div>\n",
       "<style scoped>\n",
       "    .dataframe tbody tr th:only-of-type {\n",
       "        vertical-align: middle;\n",
       "    }\n",
       "\n",
       "    .dataframe tbody tr th {\n",
       "        vertical-align: top;\n",
       "    }\n",
       "\n",
       "    .dataframe thead th {\n",
       "        text-align: right;\n",
       "    }\n",
       "</style>\n",
       "<table border=\"1\" class=\"dataframe\">\n",
       "  <thead>\n",
       "    <tr style=\"text-align: right;\">\n",
       "      <th></th>\n",
       "      <th>total_return</th>\n",
       "    </tr>\n",
       "    <tr>\n",
       "      <th>Date</th>\n",
       "      <th></th>\n",
       "    </tr>\n",
       "  </thead>\n",
       "  <tbody>\n",
       "    <tr>\n",
       "      <th>2019-01-31</th>\n",
       "      <td>1.105147</td>\n",
       "    </tr>\n",
       "    <tr>\n",
       "      <th>2019-02-28</th>\n",
       "      <td>0.991314</td>\n",
       "    </tr>\n",
       "    <tr>\n",
       "      <th>2019-03-31</th>\n",
       "      <td>1.004077</td>\n",
       "    </tr>\n",
       "    <tr>\n",
       "      <th>2019-04-30</th>\n",
       "      <td>1.055623</td>\n",
       "    </tr>\n",
       "    <tr>\n",
       "      <th>2019-05-31</th>\n",
       "      <td>0.898283</td>\n",
       "    </tr>\n",
       "  </tbody>\n",
       "</table>\n",
       "</div>"
      ],
      "text/plain": [
       "            total_return\n",
       "Date                    \n",
       "2019-01-31      1.105147\n",
       "2019-02-28      0.991314\n",
       "2019-03-31      1.004077\n",
       "2019-04-30      1.055623\n",
       "2019-05-31      0.898283"
      ]
     },
     "execution_count": 468,
     "metadata": {},
     "output_type": "execute_result"
    }
   ],
   "source": [
    "p = portfolio_1.resample('M').agg({'total_return':np.product})\n",
    "p.head()"
   ]
  },
  {
   "cell_type": "code",
   "execution_count": 469,
   "metadata": {},
   "outputs": [
    {
     "data": {
      "text/plain": [
       "(80, 1)"
      ]
     },
     "execution_count": 469,
     "metadata": {},
     "output_type": "execute_result"
    }
   ],
   "source": [
    "data_sp.shape"
   ]
  },
  {
   "cell_type": "code",
   "execution_count": 470,
   "metadata": {},
   "outputs": [
    {
     "data": {
      "text/plain": [
       "(80, 1)"
      ]
     },
     "execution_count": 470,
     "metadata": {},
     "output_type": "execute_result"
    }
   ],
   "source": [
    "portfolio_return.shape"
   ]
  },
  {
   "cell_type": "code",
   "execution_count": 471,
   "metadata": {},
   "outputs": [
    {
     "data": {
      "text/html": [
       "<div>\n",
       "<style scoped>\n",
       "    .dataframe tbody tr th:only-of-type {\n",
       "        vertical-align: middle;\n",
       "    }\n",
       "\n",
       "    .dataframe tbody tr th {\n",
       "        vertical-align: top;\n",
       "    }\n",
       "\n",
       "    .dataframe thead th {\n",
       "        text-align: right;\n",
       "    }\n",
       "</style>\n",
       "<table border=\"1\" class=\"dataframe\">\n",
       "  <thead>\n",
       "    <tr style=\"text-align: right;\">\n",
       "      <th></th>\n",
       "      <th>benchmark_return</th>\n",
       "      <th>portfolio_return</th>\n",
       "    </tr>\n",
       "    <tr>\n",
       "      <th>Date</th>\n",
       "      <th></th>\n",
       "      <th></th>\n",
       "    </tr>\n",
       "  </thead>\n",
       "  <tbody>\n",
       "    <tr>\n",
       "      <th>2013-01-31</th>\n",
       "      <td>1.024405</td>\n",
       "      <td>1.039143</td>\n",
       "    </tr>\n",
       "    <tr>\n",
       "      <th>2013-02-28</th>\n",
       "      <td>1.011061</td>\n",
       "      <td>1.018295</td>\n",
       "    </tr>\n",
       "    <tr>\n",
       "      <th>2013-03-31</th>\n",
       "      <td>1.035988</td>\n",
       "      <td>1.062293</td>\n",
       "    </tr>\n",
       "    <tr>\n",
       "      <th>2013-04-30</th>\n",
       "      <td>1.018086</td>\n",
       "      <td>1.011207</td>\n",
       "    </tr>\n",
       "    <tr>\n",
       "      <th>2013-05-31</th>\n",
       "      <td>1.020763</td>\n",
       "      <td>1.036232</td>\n",
       "    </tr>\n",
       "  </tbody>\n",
       "</table>\n",
       "</div>"
      ],
      "text/plain": [
       "            benchmark_return  portfolio_return\n",
       "Date                                          \n",
       "2013-01-31          1.024405          1.039143\n",
       "2013-02-28          1.011061          1.018295\n",
       "2013-03-31          1.035988          1.062293\n",
       "2013-04-30          1.018086          1.011207\n",
       "2013-05-31          1.020763          1.036232"
      ]
     },
     "execution_count": 471,
     "metadata": {},
     "output_type": "execute_result"
    }
   ],
   "source": [
    "data_sp['portfolio_return'] = portfolio_return['total_return']\n",
    "data_sp = data_sp.rename(columns={\"daily_return\": \"benchmark_return\"})\n",
    "data_sp.head()"
   ]
  },
  {
   "cell_type": "code",
   "execution_count": 475,
   "metadata": {},
   "outputs": [
    {
     "data": {
      "image/png": "[encoded data removed]",
      "text/plain": [
       "<Figure size 432x288 with 1 Axes>"
      ]
     },
     "metadata": {
      "needs_background": "light"
     },
     "output_type": "display_data"
    }
   ],
   "source": [
    "plt.plot(data_sp['benchmark_return'])\n",
    "plt.plot(data_sp['portfolio_return'])\n",
    "\n",
    "plt.show()"
   ]
  },
  {
   "cell_type": "code",
   "execution_count": 451,
   "metadata": {},
   "outputs": [],
   "source": [
    "copy = data_sp.copy()\n"
   ]
  },
  {
   "cell_type": "code",
   "execution_count": 394,
   "metadata": {},
   "outputs": [],
   "source": [
    "y_1 = np.cumprod(data_sp['portfolio_return'].values, axis=0)"
   ]
  },
  {
   "cell_type": "code",
   "execution_count": 395,
   "metadata": {},
   "outputs": [],
   "source": [
    "y_2 = np.cumprod(data_sp['benchmark_return'].values, axis=0)"
   ]
  },
  {
   "cell_type": "code",
   "execution_count": 396,
   "metadata": {},
   "outputs": [
    {
     "data": {
      "text/plain": [
       "7"
      ]
     },
     "execution_count": 396,
     "metadata": {},
     "output_type": "execute_result"
    }
   ],
   "source": [
    "x = time_list\n",
    "len(x)"
   ]
  },
  {
   "cell_type": "code",
   "execution_count": 397,
   "metadata": {},
   "outputs": [],
   "source": [
    "d = pd.date_range(start='1/1/2013', end='08/31/2019', freq='MS')    "
   ]
  },
  {
   "cell_type": "code",
   "execution_count": null,
   "metadata": {},
   "outputs": [],
   "source": []
  },
  {
   "cell_type": "code",
   "execution_count": null,
   "metadata": {},
   "outputs": [],
   "source": []
  },
  {
   "cell_type": "code",
   "execution_count": 398,
   "metadata": {},
   "outputs": [
    {
     "data": {
      "image/png": "[encoded data removed]",
      "text/plain": [
       "<Figure size 432x288 with 1 Axes>"
      ]
     },
     "metadata": {
      "needs_background": "light"
     },
     "output_type": "display_data"
    }
   ],
   "source": [
    "plt.plot(list(d),y_1)\n",
    "plt.plot(list(d),y_2)\n",
    "plt.show()"
   ]
  },
  {
   "cell_type": "markdown",
   "metadata": {},
   "source": [
    "## Conduct regression analysis"
   ]
  },
  {
   "cell_type": "code",
   "execution_count": 399,
   "metadata": {},
   "outputs": [
    {
     "data": {
      "text/html": [
       "<div>\n",
       "<style scoped>\n",
       "    .dataframe tbody tr th:only-of-type {\n",
       "        vertical-align: middle;\n",
       "    }\n",
       "\n",
       "    .dataframe tbody tr th {\n",
       "        vertical-align: top;\n",
       "    }\n",
       "\n",
       "    .dataframe thead th {\n",
       "        text-align: right;\n",
       "    }\n",
       "</style>\n",
       "<table border=\"1\" class=\"dataframe\">\n",
       "  <thead>\n",
       "    <tr style=\"text-align: right;\">\n",
       "      <th></th>\n",
       "      <th>DATE</th>\n",
       "      <th>TB1YR</th>\n",
       "    </tr>\n",
       "  </thead>\n",
       "  <tbody>\n",
       "    <tr>\n",
       "      <th>0</th>\n",
       "      <td>2013-01-01</td>\n",
       "      <td>0.0014</td>\n",
       "    </tr>\n",
       "    <tr>\n",
       "      <th>1</th>\n",
       "      <td>2013-02-01</td>\n",
       "      <td>0.0015</td>\n",
       "    </tr>\n",
       "    <tr>\n",
       "      <th>2</th>\n",
       "      <td>2013-03-01</td>\n",
       "      <td>0.0014</td>\n",
       "    </tr>\n",
       "    <tr>\n",
       "      <th>3</th>\n",
       "      <td>2013-04-01</td>\n",
       "      <td>0.0012</td>\n",
       "    </tr>\n",
       "    <tr>\n",
       "      <th>4</th>\n",
       "      <td>2013-05-01</td>\n",
       "      <td>0.0011</td>\n",
       "    </tr>\n",
       "  </tbody>\n",
       "</table>\n",
       "</div>"
      ],
      "text/plain": [
       "         DATE   TB1YR\n",
       "0  2013-01-01  0.0014\n",
       "1  2013-02-01  0.0015\n",
       "2  2013-03-01  0.0014\n",
       "3  2013-04-01  0.0012\n",
       "4  2013-05-01  0.0011"
      ]
     },
     "execution_count": 399,
     "metadata": {},
     "output_type": "execute_result"
    }
   ],
   "source": [
    "tb = pd.read_csv('TB1YR.csv')\n",
    "tb['TB1YR'] = tb['TB1YR']/100\n",
    "tb.head()"
   ]
  },
  {
   "cell_type": "code",
   "execution_count": 400,
   "metadata": {},
   "outputs": [
    {
     "data": {
      "text/plain": [
       "80"
      ]
     },
     "execution_count": 400,
     "metadata": {},
     "output_type": "execute_result"
    }
   ],
   "source": [
    "tb = list(tb['TB1YR'].values)[1:]\n",
    "tb.append(0.0191)\n",
    "tb.append(0.0191)\n",
    "len(tb)"
   ]
  },
  {
   "cell_type": "code",
   "execution_count": 401,
   "metadata": {},
   "outputs": [
    {
     "data": {
      "text/html": [
       "<div>\n",
       "<style scoped>\n",
       "    .dataframe tbody tr th:only-of-type {\n",
       "        vertical-align: middle;\n",
       "    }\n",
       "\n",
       "    .dataframe tbody tr th {\n",
       "        vertical-align: top;\n",
       "    }\n",
       "\n",
       "    .dataframe thead th {\n",
       "        text-align: right;\n",
       "    }\n",
       "</style>\n",
       "<table border=\"1\" class=\"dataframe\">\n",
       "  <thead>\n",
       "    <tr style=\"text-align: right;\">\n",
       "      <th></th>\n",
       "      <th>Date</th>\n",
       "      <th>benchmark_return</th>\n",
       "      <th>portfolio_return</th>\n",
       "      <th>tb</th>\n",
       "    </tr>\n",
       "  </thead>\n",
       "  <tbody>\n",
       "    <tr>\n",
       "      <th>0</th>\n",
       "      <td>2013-01-31</td>\n",
       "      <td>1.024405</td>\n",
       "      <td>1.039143</td>\n",
       "      <td>0.0015</td>\n",
       "    </tr>\n",
       "    <tr>\n",
       "      <th>1</th>\n",
       "      <td>2013-02-28</td>\n",
       "      <td>1.011061</td>\n",
       "      <td>1.018295</td>\n",
       "      <td>0.0014</td>\n",
       "    </tr>\n",
       "    <tr>\n",
       "      <th>2</th>\n",
       "      <td>2013-03-31</td>\n",
       "      <td>1.035988</td>\n",
       "      <td>1.062293</td>\n",
       "      <td>0.0012</td>\n",
       "    </tr>\n",
       "    <tr>\n",
       "      <th>3</th>\n",
       "      <td>2013-04-30</td>\n",
       "      <td>1.018086</td>\n",
       "      <td>1.011207</td>\n",
       "      <td>0.0011</td>\n",
       "    </tr>\n",
       "    <tr>\n",
       "      <th>4</th>\n",
       "      <td>2013-05-31</td>\n",
       "      <td>1.020763</td>\n",
       "      <td>1.036232</td>\n",
       "      <td>0.0014</td>\n",
       "    </tr>\n",
       "  </tbody>\n",
       "</table>\n",
       "</div>"
      ],
      "text/plain": [
       "        Date  benchmark_return  portfolio_return      tb\n",
       "0 2013-01-31          1.024405          1.039143  0.0015\n",
       "1 2013-02-28          1.011061          1.018295  0.0014\n",
       "2 2013-03-31          1.035988          1.062293  0.0012\n",
       "3 2013-04-30          1.018086          1.011207  0.0011\n",
       "4 2013-05-31          1.020763          1.036232  0.0014"
      ]
     },
     "execution_count": 401,
     "metadata": {},
     "output_type": "execute_result"
    }
   ],
   "source": [
    "data_sp = data_sp.reset_index()\n",
    "data_sp['tb'] = pd.Series(tb)\n",
    "data_sp.head()"
   ]
  },
  {
   "cell_type": "code",
   "execution_count": 402,
   "metadata": {},
   "outputs": [
    {
     "data": {
      "text/html": [
       "<div>\n",
       "<style scoped>\n",
       "    .dataframe tbody tr th:only-of-type {\n",
       "        vertical-align: middle;\n",
       "    }\n",
       "\n",
       "    .dataframe tbody tr th {\n",
       "        vertical-align: top;\n",
       "    }\n",
       "\n",
       "    .dataframe thead th {\n",
       "        text-align: right;\n",
       "    }\n",
       "</style>\n",
       "<table border=\"1\" class=\"dataframe\">\n",
       "  <thead>\n",
       "    <tr style=\"text-align: right;\">\n",
       "      <th></th>\n",
       "      <th>Date</th>\n",
       "      <th>benchmark_return</th>\n",
       "      <th>portfolio_return</th>\n",
       "      <th>tb</th>\n",
       "    </tr>\n",
       "  </thead>\n",
       "  <tbody>\n",
       "    <tr>\n",
       "      <th>0</th>\n",
       "      <td>2013-01-31</td>\n",
       "      <td>0.024405</td>\n",
       "      <td>0.039143</td>\n",
       "      <td>0.0015</td>\n",
       "    </tr>\n",
       "    <tr>\n",
       "      <th>1</th>\n",
       "      <td>2013-02-28</td>\n",
       "      <td>0.011061</td>\n",
       "      <td>0.018295</td>\n",
       "      <td>0.0014</td>\n",
       "    </tr>\n",
       "    <tr>\n",
       "      <th>2</th>\n",
       "      <td>2013-03-31</td>\n",
       "      <td>0.035988</td>\n",
       "      <td>0.062293</td>\n",
       "      <td>0.0012</td>\n",
       "    </tr>\n",
       "    <tr>\n",
       "      <th>3</th>\n",
       "      <td>2013-04-30</td>\n",
       "      <td>0.018086</td>\n",
       "      <td>0.011207</td>\n",
       "      <td>0.0011</td>\n",
       "    </tr>\n",
       "    <tr>\n",
       "      <th>4</th>\n",
       "      <td>2013-05-31</td>\n",
       "      <td>0.020763</td>\n",
       "      <td>0.036232</td>\n",
       "      <td>0.0014</td>\n",
       "    </tr>\n",
       "  </tbody>\n",
       "</table>\n",
       "</div>"
      ],
      "text/plain": [
       "        Date  benchmark_return  portfolio_return      tb\n",
       "0 2013-01-31          0.024405          0.039143  0.0015\n",
       "1 2013-02-28          0.011061          0.018295  0.0014\n",
       "2 2013-03-31          0.035988          0.062293  0.0012\n",
       "3 2013-04-30          0.018086          0.011207  0.0011\n",
       "4 2013-05-31          0.020763          0.036232  0.0014"
      ]
     },
     "execution_count": 402,
     "metadata": {},
     "output_type": "execute_result"
    }
   ],
   "source": [
    "data_sp['benchmark_return'] -= 1\n",
    "data_sp['portfolio_return'] -= 1\n",
    "data_sp.head()"
   ]
  },
  {
   "cell_type": "code",
   "execution_count": 403,
   "metadata": {},
   "outputs": [
    {
     "data": {
      "text/html": [
       "<div>\n",
       "<style scoped>\n",
       "    .dataframe tbody tr th:only-of-type {\n",
       "        vertical-align: middle;\n",
       "    }\n",
       "\n",
       "    .dataframe tbody tr th {\n",
       "        vertical-align: top;\n",
       "    }\n",
       "\n",
       "    .dataframe thead th {\n",
       "        text-align: right;\n",
       "    }\n",
       "</style>\n",
       "<table border=\"1\" class=\"dataframe\">\n",
       "  <thead>\n",
       "    <tr style=\"text-align: right;\">\n",
       "      <th></th>\n",
       "      <th>Date</th>\n",
       "      <th>benchmark_return</th>\n",
       "      <th>portfolio_return</th>\n",
       "      <th>tb</th>\n",
       "      <th>benchmark_return_excess</th>\n",
       "      <th>portfolio_return_excess</th>\n",
       "    </tr>\n",
       "  </thead>\n",
       "  <tbody>\n",
       "    <tr>\n",
       "      <th>0</th>\n",
       "      <td>2013-01-31</td>\n",
       "      <td>0.024405</td>\n",
       "      <td>0.039143</td>\n",
       "      <td>0.0015</td>\n",
       "      <td>0.022905</td>\n",
       "      <td>0.037643</td>\n",
       "    </tr>\n",
       "    <tr>\n",
       "      <th>1</th>\n",
       "      <td>2013-02-28</td>\n",
       "      <td>0.011061</td>\n",
       "      <td>0.018295</td>\n",
       "      <td>0.0014</td>\n",
       "      <td>0.009661</td>\n",
       "      <td>0.016895</td>\n",
       "    </tr>\n",
       "    <tr>\n",
       "      <th>2</th>\n",
       "      <td>2013-03-31</td>\n",
       "      <td>0.035988</td>\n",
       "      <td>0.062293</td>\n",
       "      <td>0.0012</td>\n",
       "      <td>0.034788</td>\n",
       "      <td>0.061093</td>\n",
       "    </tr>\n",
       "    <tr>\n",
       "      <th>3</th>\n",
       "      <td>2013-04-30</td>\n",
       "      <td>0.018086</td>\n",
       "      <td>0.011207</td>\n",
       "      <td>0.0011</td>\n",
       "      <td>0.016986</td>\n",
       "      <td>0.010107</td>\n",
       "    </tr>\n",
       "    <tr>\n",
       "      <th>4</th>\n",
       "      <td>2013-05-31</td>\n",
       "      <td>0.020763</td>\n",
       "      <td>0.036232</td>\n",
       "      <td>0.0014</td>\n",
       "      <td>0.019363</td>\n",
       "      <td>0.034832</td>\n",
       "    </tr>\n",
       "  </tbody>\n",
       "</table>\n",
       "</div>"
      ],
      "text/plain": [
       "        Date  benchmark_return  portfolio_return      tb  \\\n",
       "0 2013-01-31          0.024405          0.039143  0.0015   \n",
       "1 2013-02-28          0.011061          0.018295  0.0014   \n",
       "2 2013-03-31          0.035988          0.062293  0.0012   \n",
       "3 2013-04-30          0.018086          0.011207  0.0011   \n",
       "4 2013-05-31          0.020763          0.036232  0.0014   \n",
       "\n",
       "   benchmark_return_excess  portfolio_return_excess  \n",
       "0                 0.022905                 0.037643  \n",
       "1                 0.009661                 0.016895  \n",
       "2                 0.034788                 0.061093  \n",
       "3                 0.016986                 0.010107  \n",
       "4                 0.019363                 0.034832  "
      ]
     },
     "execution_count": 403,
     "metadata": {},
     "output_type": "execute_result"
    }
   ],
   "source": [
    "data_sp['benchmark_return_excess'] = data_sp['benchmark_return']-data_sp['tb']\n",
    "data_sp['portfolio_return_excess'] = data_sp['portfolio_return']-data_sp['tb']\n",
    "data_sp.head()"
   ]
  },
  {
   "cell_type": "code",
   "execution_count": 404,
   "metadata": {},
   "outputs": [
    {
     "data": {
      "text/html": [
       "<div>\n",
       "<style scoped>\n",
       "    .dataframe tbody tr th:only-of-type {\n",
       "        vertical-align: middle;\n",
       "    }\n",
       "\n",
       "    .dataframe tbody tr th {\n",
       "        vertical-align: top;\n",
       "    }\n",
       "\n",
       "    .dataframe thead th {\n",
       "        text-align: right;\n",
       "    }\n",
       "</style>\n",
       "<table border=\"1\" class=\"dataframe\">\n",
       "  <thead>\n",
       "    <tr style=\"text-align: right;\">\n",
       "      <th></th>\n",
       "      <th>Date</th>\n",
       "      <th>benchmark_return</th>\n",
       "      <th>portfolio_return</th>\n",
       "      <th>tb</th>\n",
       "      <th>benchmark_return_excess</th>\n",
       "      <th>portfolio_return_excess</th>\n",
       "      <th>constant</th>\n",
       "    </tr>\n",
       "  </thead>\n",
       "  <tbody>\n",
       "    <tr>\n",
       "      <th>0</th>\n",
       "      <td>2013-01-31</td>\n",
       "      <td>0.024405</td>\n",
       "      <td>0.039143</td>\n",
       "      <td>0.0015</td>\n",
       "      <td>0.022905</td>\n",
       "      <td>0.037643</td>\n",
       "      <td>1</td>\n",
       "    </tr>\n",
       "    <tr>\n",
       "      <th>1</th>\n",
       "      <td>2013-02-28</td>\n",
       "      <td>0.011061</td>\n",
       "      <td>0.018295</td>\n",
       "      <td>0.0014</td>\n",
       "      <td>0.009661</td>\n",
       "      <td>0.016895</td>\n",
       "      <td>1</td>\n",
       "    </tr>\n",
       "    <tr>\n",
       "      <th>2</th>\n",
       "      <td>2013-03-31</td>\n",
       "      <td>0.035988</td>\n",
       "      <td>0.062293</td>\n",
       "      <td>0.0012</td>\n",
       "      <td>0.034788</td>\n",
       "      <td>0.061093</td>\n",
       "      <td>1</td>\n",
       "    </tr>\n",
       "    <tr>\n",
       "      <th>3</th>\n",
       "      <td>2013-04-30</td>\n",
       "      <td>0.018086</td>\n",
       "      <td>0.011207</td>\n",
       "      <td>0.0011</td>\n",
       "      <td>0.016986</td>\n",
       "      <td>0.010107</td>\n",
       "      <td>1</td>\n",
       "    </tr>\n",
       "    <tr>\n",
       "      <th>4</th>\n",
       "      <td>2013-05-31</td>\n",
       "      <td>0.020763</td>\n",
       "      <td>0.036232</td>\n",
       "      <td>0.0014</td>\n",
       "      <td>0.019363</td>\n",
       "      <td>0.034832</td>\n",
       "      <td>1</td>\n",
       "    </tr>\n",
       "  </tbody>\n",
       "</table>\n",
       "</div>"
      ],
      "text/plain": [
       "        Date  benchmark_return  portfolio_return      tb  \\\n",
       "0 2013-01-31          0.024405          0.039143  0.0015   \n",
       "1 2013-02-28          0.011061          0.018295  0.0014   \n",
       "2 2013-03-31          0.035988          0.062293  0.0012   \n",
       "3 2013-04-30          0.018086          0.011207  0.0011   \n",
       "4 2013-05-31          0.020763          0.036232  0.0014   \n",
       "\n",
       "   benchmark_return_excess  portfolio_return_excess  constant  \n",
       "0                 0.022905                 0.037643         1  \n",
       "1                 0.009661                 0.016895         1  \n",
       "2                 0.034788                 0.061093         1  \n",
       "3                 0.016986                 0.010107         1  \n",
       "4                 0.019363                 0.034832         1  "
      ]
     },
     "execution_count": 404,
     "metadata": {},
     "output_type": "execute_result"
    }
   ],
   "source": [
    "data_sp['constant'] = 1\n",
    "data_sp.head()"
   ]
  },
  {
   "cell_type": "code",
   "execution_count": 409,
   "metadata": {},
   "outputs": [
    {
     "data": {
      "text/html": [
       "<div>\n",
       "<style scoped>\n",
       "    .dataframe tbody tr th:only-of-type {\n",
       "        vertical-align: middle;\n",
       "    }\n",
       "\n",
       "    .dataframe tbody tr th {\n",
       "        vertical-align: top;\n",
       "    }\n",
       "\n",
       "    .dataframe thead th {\n",
       "        text-align: right;\n",
       "    }\n",
       "</style>\n",
       "<table border=\"1\" class=\"dataframe\">\n",
       "  <thead>\n",
       "    <tr style=\"text-align: right;\">\n",
       "      <th></th>\n",
       "      <th>benchmark_return</th>\n",
       "      <th>portfolio_return</th>\n",
       "      <th>tb</th>\n",
       "      <th>benchmark_return_excess</th>\n",
       "      <th>portfolio_return_excess</th>\n",
       "      <th>constant</th>\n",
       "    </tr>\n",
       "    <tr>\n",
       "      <th>Date</th>\n",
       "      <th></th>\n",
       "      <th></th>\n",
       "      <th></th>\n",
       "      <th></th>\n",
       "      <th></th>\n",
       "      <th></th>\n",
       "    </tr>\n",
       "  </thead>\n",
       "  <tbody>\n",
       "    <tr>\n",
       "      <th>2013-01-31</th>\n",
       "      <td>2.440471</td>\n",
       "      <td>3.914332</td>\n",
       "      <td>0.15</td>\n",
       "      <td>2.290471</td>\n",
       "      <td>3.764332</td>\n",
       "      <td>100</td>\n",
       "    </tr>\n",
       "    <tr>\n",
       "      <th>2013-02-28</th>\n",
       "      <td>1.106065</td>\n",
       "      <td>1.829534</td>\n",
       "      <td>0.14</td>\n",
       "      <td>0.966065</td>\n",
       "      <td>1.689534</td>\n",
       "      <td>100</td>\n",
       "    </tr>\n",
       "    <tr>\n",
       "      <th>2013-03-31</th>\n",
       "      <td>3.598772</td>\n",
       "      <td>6.229326</td>\n",
       "      <td>0.12</td>\n",
       "      <td>3.478772</td>\n",
       "      <td>6.109326</td>\n",
       "      <td>100</td>\n",
       "    </tr>\n",
       "    <tr>\n",
       "      <th>2013-04-30</th>\n",
       "      <td>1.808577</td>\n",
       "      <td>1.120665</td>\n",
       "      <td>0.11</td>\n",
       "      <td>1.698577</td>\n",
       "      <td>1.010665</td>\n",
       "      <td>100</td>\n",
       "    </tr>\n",
       "    <tr>\n",
       "      <th>2013-05-31</th>\n",
       "      <td>2.076281</td>\n",
       "      <td>3.623236</td>\n",
       "      <td>0.14</td>\n",
       "      <td>1.936281</td>\n",
       "      <td>3.483236</td>\n",
       "      <td>100</td>\n",
       "    </tr>\n",
       "  </tbody>\n",
       "</table>\n",
       "</div>"
      ],
      "text/plain": [
       "            benchmark_return  portfolio_return    tb  benchmark_return_excess  \\\n",
       "Date                                                                            \n",
       "2013-01-31          2.440471          3.914332  0.15                 2.290471   \n",
       "2013-02-28          1.106065          1.829534  0.14                 0.966065   \n",
       "2013-03-31          3.598772          6.229326  0.12                 3.478772   \n",
       "2013-04-30          1.808577          1.120665  0.11                 1.698577   \n",
       "2013-05-31          2.076281          3.623236  0.14                 1.936281   \n",
       "\n",
       "            portfolio_return_excess  constant  \n",
       "Date                                           \n",
       "2013-01-31                 3.764332       100  \n",
       "2013-02-28                 1.689534       100  \n",
       "2013-03-31                 6.109326       100  \n",
       "2013-04-30                 1.010665       100  \n",
       "2013-05-31                 3.483236       100  "
      ]
     },
     "execution_count": 409,
     "metadata": {},
     "output_type": "execute_result"
    }
   ],
   "source": [
    "#data_sp = data_sp.set_index('Date')\n",
    "data_sp = data_sp.applymap(lambda x: x*100)\n",
    "data_sp.head()"
   ]
  },
  {
   "cell_type": "code",
   "execution_count": 410,
   "metadata": {},
   "outputs": [],
   "source": [
    "data_sp['constant'] = 1"
   ]
  },
  {
   "cell_type": "code",
   "execution_count": 411,
   "metadata": {},
   "outputs": [],
   "source": [
    "import statsmodels.formula.api as smf"
   ]
  },
  {
   "cell_type": "code",
   "execution_count": 459,
   "metadata": {},
   "outputs": [
    {
     "name": "stdout",
     "output_type": "stream",
     "text": [
      "                               OLS Regression Results                              \n",
      "===================================================================================\n",
      "Dep. Variable:     portfolio_return_excess   R-squared:                       0.807\n",
      "Model:                                 OLS   Adj. R-squared:                  0.805\n",
      "Method:                      Least Squares   F-statistic:                     326.6\n",
      "Date:                     Wed, 14 Aug 2019   Prob (F-statistic):           1.31e-29\n",
      "Time:                             11:40:48   Log-Likelihood:                -153.90\n",
      "No. Observations:                       80   AIC:                             311.8\n",
      "Df Residuals:                           78   BIC:                             316.6\n",
      "Df Model:                                1                                         \n",
      "Covariance Type:                 nonrobust                                         \n",
      "===========================================================================================\n",
      "                              coef    std err          t      P>|t|      [0.025      0.975]\n",
      "-------------------------------------------------------------------------------------------\n",
      "Intercept                   0.3125      0.188      1.666      0.100      -0.061       0.686\n",
      "benchmark_return_excess     1.0105      0.056     18.072      0.000       0.899       1.122\n",
      "==============================================================================\n",
      "Omnibus:                        0.564   Durbin-Watson:                   2.134\n",
      "Prob(Omnibus):                  0.754   Jarque-Bera (JB):                0.221\n",
      "Skew:                          -0.107   Prob(JB):                        0.895\n",
      "Kurtosis:                       3.143   Cond. No.                         3.35\n",
      "==============================================================================\n",
      "\n",
      "Warnings:\n",
      "[1] Standard Errors assume that the covariance matrix of the errors is correctly specified.\n"
     ]
    }
   ],
   "source": [
    "model = smf.ols(formula = \"portfolio_return_excess ~ benchmark_return_excess\", data = data_sp)\n",
    "#print (i)\n",
    "fit = model.fit()\n",
    "print (fit.summary())"
   ]
  },
  {
   "cell_type": "code",
   "execution_count": 427,
   "metadata": {},
   "outputs": [
    {
     "name": "stdout",
     "output_type": "stream",
     "text": [
      "                            OLS Regression Results                            \n",
      "==============================================================================\n",
      "Dep. Variable:       portfolio_return   R-squared:                       0.781\n",
      "Model:                            OLS   Adj. R-squared:                  0.778\n",
      "Method:                 Least Squares   F-statistic:                     277.6\n",
      "Date:                Wed, 14 Aug 2019   Prob (F-statistic):           2.06e-27\n",
      "Time:                        10:50:53   Log-Likelihood:                -153.82\n",
      "No. Observations:                  80   AIC:                             311.6\n",
      "Df Residuals:                      78   BIC:                             316.4\n",
      "Df Model:                           1                                         \n",
      "Covariance Type:            nonrobust                                         \n",
      "====================================================================================\n",
      "                       coef    std err          t      P>|t|      [0.025      0.975]\n",
      "------------------------------------------------------------------------------------\n",
      "Intercept            0.3368      0.195      1.725      0.088      -0.052       0.725\n",
      "benchmark_return     0.9740      0.058     16.660      0.000       0.858       1.090\n",
      "==============================================================================\n",
      "Omnibus:                        0.587   Durbin-Watson:                   2.146\n",
      "Prob(Omnibus):                  0.746   Jarque-Bera (JB):                0.283\n",
      "Skew:                          -0.136   Prob(JB):                        0.868\n",
      "Kurtosis:                       3.102   Cond. No.                         3.50\n",
      "==============================================================================\n",
      "\n",
      "Warnings:\n",
      "[1] Standard Errors assume that the covariance matrix of the errors is correctly specified.\n"
     ]
    }
   ],
   "source": [
    "model = smf.ols(formula = \"portfolio_return ~ benchmark_return\", data = data_sp)\n",
    "#print (i)\n",
    "fit = model.fit()\n",
    "print (fit.summary())"
   ]
  },
  {
   "cell_type": "markdown",
   "metadata": {},
   "source": [
    "### Check regression assumption\n",
    "- check linearity\n",
    "    - plot a residual graph (1.observed vs predicted graph  2.residual vs predicted graph)\n",
    "         \n",
    "    - use rainbow test(The null hypothesis is that model is linear)\n",
    "    \n",
    "    \n",
    "- check nomality of error term\n",
    "    - plot QQ plot\n",
    "    - Use Jarque_Bera(JB) test (The null hypothesis is that data follows normal distribution)\n",
    "    \n",
    "    \n",
    "- check heteroskedasticity\n",
    "    - Breusch-Pagan test(The null hypothesis is that residual has equal variance over time)\n",
    "    \n",
    "    \n",
    "- check serial correlation\n",
    "    - Durbin Watson test(The null hypothesis of the test is that there is no serial correlation)"
   ]
  },
  {
   "cell_type": "code",
   "execution_count": 465,
   "metadata": {},
   "outputs": [
    {
     "data": {
      "image/png": "[encoded data removed]",
      "text/plain": [
       "<Figure size 432x288 with 1 Axes>"
      ]
     },
     "metadata": {
      "needs_background": "light"
     },
     "output_type": "display_data"
    }
   ],
   "source": [
    "plt.scatter(data_sp['benchmark_return_excess'],data_sp['portfolio_return_excess'])\n",
    "#plt.scatter(data_sp['benchmark_return_excess'])\n",
    "plt.show()"
   ]
  },
  {
   "cell_type": "code",
   "execution_count": 436,
   "metadata": {},
   "outputs": [
    {
     "data": {
      "image/png": "[encoded data removed]",
      "text/plain": [
       "<Figure size 432x288 with 1 Axes>"
      ]
     },
     "metadata": {
      "needs_background": "dark"
     },
     "output_type": "display_data"
    }
   ],
   "source": [
    "#check linearity by ploting residual graph\n",
    "pred_val = fit.fittedvalues.copy()\n",
    "true_val = data_sp['portfolio_return_excess'].values.copy()\n",
    "residual = true_val - pred_val\n",
    "\n",
    "plt.plot(pred_val,residual,'o')\n",
    "plt.xlabel('Predicted')#,color='white')\n",
    "plt.ylabel('Residual')#,color='white')\n",
    "plt.title('Predicted vs. Residual: Visual Linearity Test')#,color='white')\n",
    "plt.tick_params(axis='x', colors='white')\n",
    "plt.tick_params(axis='y', colors='white')\n",
    "abline(0,0)\n",
    "plt.show()"
   ]
  },
  {
   "cell_type": "code",
   "execution_count": 429,
   "metadata": {},
   "outputs": [
    {
     "data": {
      "image/png": "[encoded data removed]",
      "text/plain": [
       "<Figure size 432x288 with 1 Axes>"
      ]
     },
     "metadata": {
      "needs_background": "dark"
     },
     "output_type": "display_data"
    }
   ],
   "source": [
    "#check linearity by ploting residual graph\n",
    "\n",
    "pred_val = fit.fittedvalues.copy()\n",
    "true_val = data_sp['portfolio_return_excess'].values.copy()\n",
    "residual = true_val - pred_val\n",
    "\n",
    "def abline(slope, intercept):\n",
    "    axes = plt.gca()\n",
    "    x_vals = np.array(axes.get_xlim())\n",
    "    y_vals = intercept + slope * x_vals\n",
    "    plt.plot(x_vals, y_vals, '--')\n",
    "\n",
    "plt.plot(pred_val,true_val,'o')\n",
    "plt.xlabel('Predicted')#,color='white')\n",
    "plt.ylabel('Actual')#,color='white')\n",
    "plt.title('Predicted vs. Actual: Visual Linearity Test')#,color='white')\n",
    "plt.tick_params(axis='x', colors='white')\n",
    "plt.tick_params(axis='y', colors='white')\n",
    "abline(1,0)\n",
    "plt.show()"
   ]
  },
  {
   "cell_type": "code",
   "execution_count": 463,
   "metadata": {},
   "outputs": [
    {
     "data": {
      "text/plain": [
       "Date\n",
       "2013-01-31    2.627053\n",
       "2013-02-28    1.288698\n",
       "2013-03-31    3.827869\n",
       "2013-04-30    2.028925\n",
       "2013-05-31    2.269133\n",
       "dtype: float64"
      ]
     },
     "execution_count": 463,
     "metadata": {},
     "output_type": "execute_result"
    }
   ],
   "source": [
    "pred_val[:5]"
   ]
  },
  {
   "cell_type": "code",
   "execution_count": 464,
   "metadata": {},
   "outputs": [
    {
     "data": {
      "text/plain": [
       "array([3.76433245, 1.68953416, 6.10932563, 1.01066464, 3.48323578])"
      ]
     },
     "execution_count": 464,
     "metadata": {},
     "output_type": "execute_result"
    }
   ],
   "source": [
    "true_val[:5]"
   ]
  },
  {
   "cell_type": "code",
   "execution_count": 446,
   "metadata": {},
   "outputs": [
    {
     "name": "stdout",
     "output_type": "stream",
     "text": [
      "(1.4704222335505046, 0.11752362709452792)\n",
      "The p value is 0.11752362709452792\n"
     ]
    }
   ],
   "source": [
    "#use rainbow test to check linearity\n",
    "from statsmodels.stats.diagnostic import linear_rainbow\n",
    "t_value ,p_value= linear_rainbow(fit)\n",
    "print(linear_rainbow(fit))\n",
    "print('The p value is '+str(p_value))"
   ]
  },
  {
   "cell_type": "markdown",
   "metadata": {},
   "source": [
    "- check normality of error term"
   ]
  },
  {
   "cell_type": "code",
   "execution_count": 424,
   "metadata": {},
   "outputs": [
    {
     "data": {
      "image/png": "[encoded data removed]",
      "text/plain": [
       "<Figure size 432x288 with 1 Axes>"
      ]
     },
     "metadata": {
      "needs_background": "light"
     },
     "output_type": "display_data"
    }
   ],
   "source": [
    "#check normality of error term\n",
    "pred_val = fit.fittedvalues.copy()\n",
    "true_val = data_sp['portfolio_return_excess'].values.copy()\n",
    "residual = true_val - pred_val\n",
    "\n",
    "\n",
    "stats.probplot(residual, dist=\"norm\", plot=pylab) \n",
    "pylab.title('QQ Plot: Test Gaussian Residuals') \n",
    "pylab.show()\n",
    "\n",
    "#fig, ax = plt.subplots(figsize=(6,2.5))\n",
    "#a, (b, c, r) = sp.stats.probplot(residual, plot=ax, fit=True)"
   ]
  },
  {
   "cell_type": "code",
   "execution_count": 450,
   "metadata": {},
   "outputs": [
    {
     "name": "stdout",
     "output_type": "stream",
     "text": [
      "p value is  0.8954884173920603\n"
     ]
    }
   ],
   "source": [
    "from scipy import stats\n",
    "\n",
    "jbtest, p_value = stats.jarque_bera(residual)\n",
    "\n",
    "print('p value is ',str(p_value))"
   ]
  },
  {
   "cell_type": "markdown",
   "metadata": {},
   "source": [
    "- check Heteroskedasticity"
   ]
  },
  {
   "cell_type": "code",
   "execution_count": 425,
   "metadata": {
    "scrolled": false
   },
   "outputs": [
    {
     "name": "stdout",
     "output_type": "stream",
     "text": [
      "the p-value for the lagrange multiplier test statistic is 0.243248\n"
     ]
    }
   ],
   "source": [
    "from statsmodels.stats.diagnostic import het_breuschpagan\n",
    "from statsmodels.stats.diagnostic import het_white\n",
    "\n",
    "lm, lm_pvalue, fvalue, f_pvalue = het_breuschpagan(resid = residual.values,exog_het = data_sp[['portfolio_return_excess','constant']].values)\n",
    "#lm, lm_pvalue, fvalue, f_pvalue = het_white(resid = residual.values,exog =  data_sp[['portfolio_return_excess','constant']].values)\n",
    "print ('the p-value for the lagrange multiplier test statistic is %f' % (lm_pvalue))"
   ]
  },
  {
   "cell_type": "markdown",
   "metadata": {},
   "source": [
    "- check serial correlation"
   ]
  },
  {
   "cell_type": "code",
   "execution_count": 456,
   "metadata": {},
   "outputs": [
    {
     "name": "stdout",
     "output_type": "stream",
     "text": [
      "DW test is 2.133571156300886\n"
     ]
    }
   ],
   "source": [
    "from statsmodels.stats.stattools import durbin_watson\n",
    "\n",
    "db_value = durbin_watson(residual)\n",
    "print('DW test is '+str(db_value))"
   ]
  },
  {
   "cell_type": "code",
   "execution_count": 458,
   "metadata": {},
   "outputs": [
    {
     "name": "stdout",
     "output_type": "stream",
     "text": [
      "                            OLS Regression Results                            \n",
      "==============================================================================\n",
      "Dep. Variable:       portfolio_return   R-squared:                       0.781\n",
      "Model:                            OLS   Adj. R-squared:                  0.778\n",
      "Method:                 Least Squares   F-statistic:                     277.6\n",
      "Date:                Wed, 14 Aug 2019   Prob (F-statistic):           2.06e-27\n",
      "Time:                        11:40:26   Log-Likelihood:                -153.82\n",
      "No. Observations:                  80   AIC:                             311.6\n",
      "Df Residuals:                      78   BIC:                             316.4\n",
      "Df Model:                           1                                         \n",
      "Covariance Type:            nonrobust                                         \n",
      "====================================================================================\n",
      "                       coef    std err          t      P>|t|      [0.025      0.975]\n",
      "------------------------------------------------------------------------------------\n",
      "Intercept            0.3368      0.195      1.725      0.088      -0.052       0.725\n",
      "benchmark_return     0.9740      0.058     16.660      0.000       0.858       1.090\n",
      "==============================================================================\n",
      "Omnibus:                        0.587   Durbin-Watson:                   2.146\n",
      "Prob(Omnibus):                  0.746   Jarque-Bera (JB):                0.283\n",
      "Skew:                          -0.136   Prob(JB):                        0.868\n",
      "Kurtosis:                       3.102   Cond. No.                         3.50\n",
      "==============================================================================\n",
      "\n",
      "Warnings:\n",
      "[1] Standard Errors assume that the covariance matrix of the errors is correctly specified.\n"
     ]
    }
   ],
   "source": [
    "model = smf.ols(formula = \"portfolio_return ~ benchmark_return\", data = data_sp)\n",
    "#print (i)\n",
    "fit = model.fit()\n",
    "print (fit.summary())"
   ]
  },
  {
   "cell_type": "markdown",
   "metadata": {},
   "source": [
    "### Plot graph"
   ]
  },
  {
   "cell_type": "code",
   "execution_count": null,
   "metadata": {},
   "outputs": [],
   "source": []
  },
  {
   "cell_type": "code",
   "execution_count": null,
   "metadata": {},
   "outputs": [],
   "source": []
  },
  {
   "cell_type": "code",
   "execution_count": null,
   "metadata": {},
   "outputs": [],
   "source": []
  }
 ],
 "metadata": {
  "kernelspec": {
   "display_name": "Python 3",
   "language": "python",
   "name": "python3"
  },
  "language_info": {
   "codemirror_mode": {
    "name": "ipython",
    "version": 3
   },
   "file_extension": ".py",
   "mimetype": "text/x-python",
   "name": "python",
   "nbconvert_exporter": "python",
   "pygments_lexer": "ipython3",
   "version": "3.7.3"
  }
 },
 "nbformat": 4,
 "nbformat_minor": 2
}
